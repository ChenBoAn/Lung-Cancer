{
 "cells": [
  {
   "cell_type": "code",
   "execution_count": null,
   "metadata": {},
   "outputs": [
    {
     "ename": "",
     "evalue": "",
     "output_type": "error",
     "traceback": [
      "\u001b[1;31mRunning cells with 'Python 3.10.3 64-bit' requires ipykernel package.\n",
      "\u001b[1;31mRun the following command to install 'ipykernel' into the Python environment. \n",
      "\u001b[1;31mCommand: 'c:/Users/user/AppData/Local/Programs/Python/Python310/python.exe -m pip install ipykernel -U --user --force-reinstall'"
     ]
    }
   ],
   "source": [
    "import numpy as np\n",
    "from tensorflow.keras.layers import BatchNormalization\n",
    "from tensorflow.keras.layers import Input, concatenate, Activation, Conv2D, Flatten, Dense, MaxPooling2D, Dropout, Add, LeakyReLU, UpSampling2D,Conv2D\n",
    "from tensorflow.keras.layers import Conv3D,MaxPooling3D,Conv3DTranspose\n",
    "from tensorflow.keras.models import Model, load_model\n",
    "from tensorflow.keras.callbacks import ReduceLROnPlateau\n",
    "from tensorflow.keras.optimizers import Adam\n",
    "from tensorflow.keras.optimizers import *\n",
    "from tensorflow.keras.layers import *\n",
    "from tensorflow.keras.callbacks import ModelCheckpoint, TensorBoard, ReduceLROnPlateau"
   ]
  },
  {
   "cell_type": "code",
   "execution_count": null,
   "metadata": {},
   "outputs": [
    {
     "ename": "",
     "evalue": "",
     "output_type": "error",
     "traceback": [
      "\u001b[1;31mRunning cells with 'Python 3.10.3 64-bit' requires ipykernel package.\n",
      "\u001b[1;31mRun the following command to install 'ipykernel' into the Python environment. \n",
      "\u001b[1;31mCommand: 'c:/Users/user/AppData/Local/Programs/Python/Python310/python.exe -m pip install ipykernel -U --user --force-reinstall'"
     ]
    }
   ],
   "source": [
    "file_path = 'G:/3DUnet/'\n",
    "\n",
    "x_train = np.load(file_path+'threeDimages.npy')\n",
    "y_train = np.load(file_path+'threeDmasks.npy')\n",
    "#x_val = np.load('/home/a1095557/UNet_1/data/x_val.npy')\n",
    "#y_val = np.load('/home/a1095557/UNet_1/data/y_val.npy')\n",
    "\n",
    "print(x_train.shape, y_train.shape)\n",
    "#print(x_val.shape, y_val.shape)"
   ]
  },
  {
   "cell_type": "code",
   "execution_count": null,
   "metadata": {},
   "outputs": [
    {
     "ename": "",
     "evalue": "",
     "output_type": "error",
     "traceback": [
      "\u001b[1;31mRunning cells with 'Python 3.10.3 64-bit' requires ipykernel package.\n",
      "\u001b[1;31mRun the following command to install 'ipykernel' into the Python environment. \n",
      "\u001b[1;31mCommand: 'c:/Users/user/AppData/Local/Programs/Python/Python310/python.exe -m pip install ipykernel -U --user --force-reinstall'"
     ]
    }
   ],
   "source": [
    "def Unet_3d():\n",
    "    input_size = (128,256, 256, 1)\n",
    "    N = input_size[0]\n",
    "    inputs = Input(input_size)\n",
    "    print('inputs : '+str(inputs.shape))\n",
    "\n",
    "    conv1 = BatchNormalization(axis=4)(inputs)\n",
    "    conv1 = Conv3D(64, 3, activation = 'relu', strides = (1,1,1),padding = 'same', kernel_initializer = 'he_normal')(inputs)\n",
    "    conv1 = Conv3D(64, 3, activation = 'relu', strides = (1,1,1),padding = 'same', kernel_initializer = 'he_normal')(conv1)\n",
    "    conv1 = BatchNormalization(axis=4)(conv1)\n",
    "    pool1 = MaxPooling3D(pool_size=(2, 2, 2))(conv1)\n",
    "    print('pool1 : '+str(pool1.shape))\n",
    "    \n",
    "    conv2 = Conv3D(128, 3, activation = 'relu', strides = (1,1,1), padding = 'same', kernel_initializer = 'he_normal')(pool1)\n",
    "    conv2 = Conv3D(128, 3, activation = 'relu', strides = (1,1,1), padding = 'same', kernel_initializer = 'he_normal')(conv2)\n",
    "    conv2 = BatchNormalization(axis=4)(conv2)\n",
    "    pool2 = MaxPooling3D(pool_size=(2, 2, 2))(conv2)\n",
    "    print('pool2 : '+str(pool2.shape))\n",
    "\n",
    "\n",
    "    conv3 = Conv3D(256, 3, activation = 'relu', strides = (1,1,1), padding = 'same', kernel_initializer = 'he_normal')(pool2)\n",
    "    conv3 = Conv3D(256, 3, activation = 'relu', strides = (1,1,1), padding = 'same', kernel_initializer = 'he_normal')(conv3)\n",
    "    conv3 = BatchNormalization(axis=4)(conv3)\n",
    "    pool3 = MaxPooling3D(pool_size=(2, 2, 2))(conv3)\n",
    "    #pool3 = Dropout(0.5)(pool3)\n",
    "    print('pool3 : '+str(pool3.shape))\n",
    "\n",
    "    conv4 = Conv3D(512, 3, activation = 'relu', strides = (1,1,1), padding = 'same', kernel_initializer = 'he_normal')(pool3)\n",
    "    conv4 = Conv3D(512, 3, activation = 'relu', strides = (1,1,1), padding = 'same', kernel_initializer = 'he_normal')(conv4)\n",
    "    conv4 = BatchNormalization(axis=4)(conv4)\n",
    "    pool4 = MaxPooling3D(pool_size=(2, 2, 2))(conv4)\n",
    "    pool4 = Dropout(0.5)(pool4)\n",
    "    print('pool4 : '+str(pool4.shape))\n",
    "\n",
    "    \n",
    "    # D1\n",
    "    conv5 = Conv3D(1024, 3, activation = 'relu', strides = (1,1,1), padding = 'same', kernel_initializer = 'he_normal')(pool4)     \n",
    "    conv5 = Conv3D(1024, 3, activation = 'relu', strides = (1,1,1), padding = 'same', kernel_initializer = 'he_normal')(conv5)\n",
    "    drop5 = Dropout(0.5)(conv5)\n",
    "    print('drop5 : '+str(drop5.shape))\n",
    "\n",
    "    up6 = Conv3DTranspose(512, kernel_size=3, strides=2, padding='same',kernel_initializer = 'he_normal')(drop5)\n",
    "    merge6  = concatenate([up6,conv4], axis = 4)\n",
    "    conv6 = Conv3D(512, 3, activation = 'relu', strides = (1,1,1), padding = 'same', kernel_initializer = 'he_normal')(merge6) \n",
    "    conv6 = Conv3D(512, 3, activation = 'relu', strides = (1,1,1), padding = 'same', kernel_initializer = 'he_normal')(conv6) \n",
    "    conv6 = BatchNormalization(axis=4)(conv6)\n",
    "    print('up6 : '+str(conv6.shape))\n",
    "\n",
    "\n",
    "    up7 = Conv3DTranspose(256, kernel_size=3, strides=2, padding='same',kernel_initializer = 'he_normal')(conv6)\n",
    "    merge7  = concatenate([up7,conv3], axis = 4)\n",
    "    conv7 = Conv3D(256, 3, activation = 'relu', strides = (1,1,1), padding = 'same', kernel_initializer = 'he_normal')(merge7) \n",
    "    conv7 = Conv3D(256, 3, activation = 'relu', strides = (1,1,1), padding = 'same', kernel_initializer = 'he_normal')(conv7) \n",
    "    conv7 = BatchNormalization(axis=4)(conv7)\n",
    "    print('up7: '+str(conv7.shape))\n",
    "\n",
    "\n",
    "    up8 = Conv3DTranspose(128, kernel_size=3, strides=2, padding='same',kernel_initializer = 'he_normal')(conv7)\n",
    "    merge8  = concatenate([up8,conv2], axis = 4)\n",
    "    conv8 = Conv3D(128, 3, activation = 'relu', strides = (1,1,1), padding = 'same', kernel_initializer = 'he_normal')(merge8) \n",
    "    conv8 = Conv3D(128, 3, activation = 'relu', strides = (1,1,1), padding = 'same', kernel_initializer = 'he_normal')(conv8) \n",
    "    conv8 = BatchNormalization(axis=4)(conv8)\n",
    "    print('up8 : '+str(conv8.shape))\n",
    "\n",
    "\n",
    "    up9 = Conv3DTranspose(64, kernel_size=3, strides=2, padding='same',kernel_initializer = 'he_normal')(conv8)\n",
    "    merge9  = concatenate([up9,conv1], axis = 4)\n",
    "    conv9 = Conv3D(64, 3, activation = 'relu', strides = (1,1,1), padding = 'same', kernel_initializer = 'he_normal')(merge9) \n",
    "    conv9 = Conv3D(64, 3, activation = 'relu', strides = (1,1,1), padding = 'same', kernel_initializer = 'he_normal')(conv9) \n",
    "    conv9 = BatchNormalization(axis=4)(conv9)\n",
    "    conv9 = Conv3D(1, 1, activation = 'relu', strides = (1,1,1), padding = 'same', kernel_initializer = 'he_normal')(conv9)\n",
    "    print('up9 : '+str(conv9.shape))\n",
    "\n",
    "    model = Model(inputs = inputs, outputs = conv9)\n",
    "    model.compile(optimizer = Adam(lr = 1e-4), loss = 'binary_crossentropy', metrics = ['accuracy'])\n",
    "\n",
    "    model.summary()\n",
    "\n",
    "    return model\n",
    "    '''# D2\n",
    "    conv5_2 = Conv2D(512, 3, activation = 'relu', strides = (1,1,1), padding = 'same', kernel_initializer = 'he_normal')(drop4_1)     \n",
    "    conv5_2 = Conv2D(512, 3, activation = 'relu', strides = (1,1,1), padding = 'same', kernel_initializer = 'he_normal')(conv4_2)\n",
    "    conv5_2 = Dropout(0.5)(conv4_2)'''\n",
    "    '''\n",
    "    # D3\n",
    "    merge_dense = concatenate([conv4,drop5_1], axis = 4)\n",
    "    conv4_3 = Conv2D(512, 3, activation = 'relu', strides = (1,1,1), padding = 'same', kernel_initializer = 'he_normal')(merge_dense)     \n",
    "    conv4_3 = Conv2D(512, 3, activation = 'relu', strides = (1,1,1), padding = 'same', kernel_initializer = 'he_normal')(conv4_3)\n",
    "    drop4_3 = Dropout(0.5)(conv4_3)\n",
    "        \n",
    "    up6 = Conv2DTranspose(256, kernel_size=2, strides=2, padding='same',kernel_initializer = 'he_normal')(drop4_3)\n",
    "    up6 = BatchNormalization(axis=3)(up6)\n",
    "    up6 = Activation('relu')(up6)\n",
    "\n",
    "    x1 = Reshape(target_shape=(1, np.int32(N/4), np.int32(N/4), 256))(drop3)\n",
    "    x2 = Reshape(target_shape=(1, np.int32(N/4), np.int32(N/4), 256))(up6)\n",
    "    merge6  = concatenate([x1,x2], axis = 1) \n",
    "    merge6 = ConvLSTM2D(filters = 128, kernel_size=(3, 3), padding='same', return_sequences = False, go_backwards = True,kernel_initializer = 'he_normal' )(merge6)\n",
    "                \n",
    "    conv6 = Conv2D(256, 3, activation = 'relu', padding = 'same', kernel_initializer = 'he_normal')(merge6)\n",
    "    conv6 = Conv2D(256, 3, activation = 'relu', padding = 'same', kernel_initializer = 'he_normal')(conv6)\n",
    "\n",
    "    up7 = Conv2DTranspose(128, kernel_size=2, strides=2, padding='same',kernel_initializer = 'he_normal')(conv6)\n",
    "    up7 = BatchNormalization(axis=3)(up7)\n",
    "    up7 = Activation('relu')(up7)\n",
    "\n",
    "    x1 = Reshape(target_shape=(1, np.int32(N/2), np.int32(N/2), 128))(conv2)\n",
    "    x2 = Reshape(target_shape=(1, np.int32(N/2), np.int32(N/2), 128))(up7)\n",
    "    merge7  = concatenate([x1,x2], axis = 1) \n",
    "    merge7 = ConvLSTM2D(filters = 64, kernel_size=(3, 3), padding='same', return_sequences = False, go_backwards = True,kernel_initializer = 'he_normal' )(merge7)\n",
    "            \n",
    "    conv7 = Conv2D(128, 3, activation = 'relu', padding = 'same', kernel_initializer = 'he_normal')(merge7)\n",
    "    conv7 = Conv2D(128, 3, activation = 'relu', padding = 'same', kernel_initializer = 'he_normal')(conv7)\n",
    "\n",
    "    up8 = Conv2DTranspose(64, kernel_size=2, strides=2, padding='same',kernel_initializer = 'he_normal')(conv7)\n",
    "    up8 = BatchNormalization(axis=3)(up8)\n",
    "    up8 = Activation('relu')(up8)    \n",
    "\n",
    "    x1 = Reshape(target_shape=(1, N, N, 64))(conv1)\n",
    "    x2 = Reshape(target_shape=(1, N, N, 64))(up8)\n",
    "    merge8  = concatenate([x1,x2], axis = 1) \n",
    "    merge8 = ConvLSTM2D(filters = 32, kernel_size=(3, 3), padding='same', return_sequences = False, go_backwards = True, kernel_initializer = 'he_normal' )(merge8)    \n",
    "        \n",
    "    conv8 = Conv2D(64, 3, activation = 'relu', padding = 'same', kernel_initializer = 'he_normal')(merge8)\n",
    "    conv8 = Conv2D(64, 3, activation = 'relu', padding = 'same', kernel_initializer = 'he_normal')(conv8)\n",
    "    conv8 = Conv2D(2, 3, activation = 'relu', padding = 'same', kernel_initializer = 'he_normal')(conv8)\n",
    "    conv9 = Conv2D(1, 1, activation = 'sigmoid')(conv8)\n",
    "\n",
    "    model = Model(inputs = inputs, outputs = conv9)\n",
    "    model.compile(optimizer = Adam(lr = 1e-4), loss = 'binary_crossentropy', metrics = ['accuracy'])\n",
    "\n",
    "    model.summary()'''\n",
    "\n",
    "Unet_3d()"
   ]
  },
  {
   "cell_type": "code",
   "execution_count": null,
   "metadata": {},
   "outputs": [
    {
     "ename": "",
     "evalue": "",
     "output_type": "error",
     "traceback": [
      "\u001b[1;31mRunning cells with 'Python 3.10.3 64-bit' requires ipykernel package.\n",
      "\u001b[1;31mRun the following command to install 'ipykernel' into the Python environment. \n",
      "\u001b[1;31mCommand: 'c:/Users/user/AppData/Local/Programs/Python/Python310/python.exe -m pip install ipykernel -U --user --force-reinstall'"
     ]
    }
   ],
   "source": [
    "model = Unet_3d()\n",
    "history = model.fit(x_train, y_train,\n",
    "                #validation_data=(x_val, y_val), \n",
    "                epochs=50, \n",
    "                batch_size=2,\n",
    "                shuffle=True, \n",
    "                callbacks=[ReduceLROnPlateau(monitor='val_loss', factor=0.1, patience=7, verbose=1, mode='auto', min_lr=1e-4)]\n",
    ")\n",
    "\n",
    "model.save(file_path+'model/model1.h5') #儲存模型"
   ]
  },
  {
   "cell_type": "markdown",
   "metadata": {},
   "source": []
  }
 ],
 "metadata": {
  "kernelspec": {
   "display_name": "Python 3.10.3 64-bit",
   "language": "python",
   "name": "python3"
  },
  "language_info": {
   "codemirror_mode": {
    "name": "ipython",
    "version": 3
   },
   "file_extension": ".py",
   "mimetype": "text/x-python",
   "name": "python",
   "nbconvert_exporter": "python",
   "pygments_lexer": "ipython3",
   "version": "3.10.3"
  },
  "orig_nbformat": 4,
  "vscode": {
   "interpreter": {
    "hash": "fb4569285eef3a3450cb62085a5b1e0da4bce0af555edc33dcf29baf3acc1368"
   }
  }
 },
 "nbformat": 4,
 "nbformat_minor": 2
}
